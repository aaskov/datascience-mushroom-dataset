{
 "cells": [
  {
   "cell_type": "markdown",
   "id": "14d4124a",
   "metadata": {},
   "source": [
    "# Evaluation"
   ]
  },
  {
   "cell_type": "markdown",
   "id": "53ffdf5f",
   "metadata": {},
   "source": [
    "### Final cross validation scores\n",
    "- 0.85 accuracy with a standard deviation of 0.17"
   ]
  },
  {
   "cell_type": "markdown",
   "id": "020c1e2e",
   "metadata": {},
   "source": [
    "Scores are high and devitation somewhat low. Dataset is assumed to be fit for classification on 'poisonous' or 'edible' labels."
   ]
  },
  {
   "cell_type": "code",
   "execution_count": null,
   "id": "6d266d7f",
   "metadata": {},
   "outputs": [],
   "source": []
  }
 ],
 "metadata": {
  "kernelspec": {
   "display_name": "Python 3 (ipykernel)",
   "language": "python",
   "name": "python3"
  },
  "language_info": {
   "codemirror_mode": {
    "name": "ipython",
    "version": 3
   },
   "file_extension": ".py",
   "mimetype": "text/x-python",
   "name": "python",
   "nbconvert_exporter": "python",
   "pygments_lexer": "ipython3",
   "version": "3.10.6"
  }
 },
 "nbformat": 4,
 "nbformat_minor": 5
}
